{
 "cells": [
  {
   "cell_type": "code",
   "execution_count": 1,
   "metadata": {},
   "outputs": [
    {
     "name": "stderr",
     "output_type": "stream",
     "text": [
      "c:\\AGENTS\\agents_env\\lib\\site-packages\\tqdm\\auto.py:21: TqdmWarning: IProgress not found. Please update jupyter and ipywidgets. See https://ipywidgets.readthedocs.io/en/stable/user_install.html\n",
      "  from .autonotebook import tqdm as notebook_tqdm\n"
     ]
    }
   ],
   "source": [
    "import chromadb\n",
    "import os\n",
    "import subprocess\n",
    "from dotenv import load_dotenv\n",
    "load_dotenv()\n",
    "\n",
    "os.environ['LANGCHAIN_TRACING_V2'] = \"true\"\n",
    "os.environ['LANGCHAIN_API_KEY'] = os.getenv(\"LANGCHAIN_API_KEY\")\n",
    "os.environ['TAVILY_API_KEY'] = os.getenv(\"TAVILY_API_KEY\")\n",
    "os.environ['GOOGLE_API_KEY'] = os.getenv(\"GEMINI_API_KEY\")\n",
    "os.environ[\"GROQ_API_KEY\"] = os.getenv(\"GROQ_API_KEY\")\n",
    "\n",
    "import pandas as pd\n",
    "from langchain_chroma import Chroma\n",
    "from langchain_core.documents import Document\n",
    "from langchain_ollama import OllamaEmbeddings\n",
    "from langchain_groq import ChatGroq\n",
    "from langchain_google_genai import ChatGoogleGenerativeAI\n",
    "from langchain_core.prompts import ChatPromptTemplate\n",
    "from langchain.prompts import PromptTemplate\n",
    "from langchain_core.output_parsers import StrOutputParser, JsonOutputParser\n",
    "from langchain.chains.query_constructor.base import AttributeInfo\n",
    "from langchain.retrievers.self_query.base import SelfQueryRetriever\n",
    "from langchain.chains.query_constructor.base import StructuredQueryOutputParser, get_query_constructor_prompt\n",
    "from langchain.retrievers.self_query.chroma import ChromaTranslator\n",
    "from langchain_community.utilities import SQLDatabase\n",
    "from langchain_community.agent_toolkits import create_sql_agent\n",
    "\n",
    "embed_model = OllamaEmbeddings(model=os.getenv('OLLAMA_EMBED'))\n",
    "llama = ChatGroq(model=os.getenv(\"LLAMA_70B_GROQ\"))\n",
    "gemini = ChatGoogleGenerativeAI(model=os.getenv(\"GEMINI_FLASH\"))"
   ]
  },
  {
   "cell_type": "markdown",
   "metadata": {},
   "source": [
    "### REVIEW COMPLAINTS STATUS"
   ]
  },
  {
   "cell_type": "code",
   "execution_count": 2,
   "metadata": {},
   "outputs": [],
   "source": [
    "db = SQLDatabase.from_uri(\"sqlite:///skincare_complaints.db\")\n"
   ]
  },
  {
   "cell_type": "code",
   "execution_count": 4,
   "metadata": {},
   "outputs": [
    {
     "data": {
      "text/plain": [
       "\"[(1, 'Alice Johnson', 'alice.johnson@example.com', 'Anti-Aging Cream', 'Caused skin irritation.', '2024-11-01', 'Open'), (2, 'Bob Smith', 'bob.smith@example.com', 'Sunscreen SPF 50', 'Leaves a white residue.', '2024-11-02', 'In Progress'), (3, 'Charlie Brown', 'charlie.brown@example.com', 'Moisturizing Lotion', 'Bottle was half empty.', '2024-11-03', 'Resolved'), (4, 'Daisy Parker', 'daisy.parker@example.com', 'Acne Treatment Gel', 'No visible results after 3 weeks.', '2024-11-04', 'Open'), (5, 'Evan Taylor', 'evan.taylor@example.com', 'Facial Cleanser', 'Strong chemical smell.', '2024-11-05', 'In Progress')]\""
      ]
     },
     "execution_count": 4,
     "metadata": {},
     "output_type": "execute_result"
    }
   ],
   "source": [
    "db.run(\"SELECT * FROM customer_complaints LIMIT 5\")"
   ]
  },
  {
   "cell_type": "code",
   "execution_count": 18,
   "metadata": {},
   "outputs": [],
   "source": [
    "agent_executer = create_sql_agent(llama, db=db, \n",
    "                                  agent_type='zero-shot-react-description', \n",
    "                                  verbose=True\n",
    "                                  )"
   ]
  },
  {
   "cell_type": "code",
   "execution_count": null,
   "metadata": {},
   "outputs": [],
   "source": []
  },
  {
   "cell_type": "code",
   "execution_count": 23,
   "metadata": {},
   "outputs": [
    {
     "name": "stdout",
     "output_type": "stream",
     "text": [
      "\n",
      "\n",
      "\u001b[1m> Entering new SQL Agent Executor chain...\u001b[0m\n",
      "\u001b[32;1m\u001b[1;3mThought: I should look at the tables in the database to see what I can query.  Then I should query the schema of the most relevant tables.\n",
      "Action: sql_db_list_tables\n",
      "Action Input: \u001b[0m\u001b[38;5;200m\u001b[1;3mcustomer_complaints\u001b[0m\u001b[32;1m\u001b[1;3mNow that I have the list of tables, I can query the schema of the `customer_complaints` table to see what columns it has.\n",
      "\n",
      "Action: sql_db_schema\n",
      "Action Input: customer_complaints\u001b[0m\u001b[33;1m\u001b[1;3m\n",
      "CREATE TABLE customer_complaints (\n",
      "\tcomplaint_id INTEGER, \n",
      "\tcustomer_name TEXT NOT NULL, \n",
      "\temail TEXT NOT NULL, \n",
      "\tproduct_name TEXT NOT NULL, \n",
      "\tcomplaint_details TEXT NOT NULL, \n",
      "\tcomplaint_date TEXT NOT NULL, \n",
      "\tstatus TEXT DEFAULT 'Open', \n",
      "\tPRIMARY KEY (complaint_id)\n",
      ")\n",
      "\n",
      "/*\n",
      "3 rows from customer_complaints table:\n",
      "complaint_id\tcustomer_name\temail\tproduct_name\tcomplaint_details\tcomplaint_date\tstatus\n",
      "1\tAlice Johnson\talice.johnson@example.com\tAnti-Aging Cream\tCaused skin irritation.\t2024-11-01\tOpen\n",
      "2\tBob Smith\tbob.smith@example.com\tSunscreen SPF 50\tLeaves a white residue.\t2024-11-02\tIn Progress\n",
      "3\tCharlie Brown\tcharlie.brown@example.com\tMoisturizing Lotion\tBottle was half empty.\t2024-11-03\tResolved\n",
      "*/\u001b[0m\u001b[32;1m\u001b[1;3mThought: Now that I have the schema, I can construct a query to check if there is an entry with the specified email and status. I'll limit the query to 1 result, and only select the relevant columns.\n",
      "\n",
      "Action: sql_db_query_checker\n",
      "Action Input: SELECT customer_name, product_name, complaint_details, status FROM customer_complaints WHERE email = 'alice.johnson@example.com' AND status = 'Open' LIMIT 1;\u001b[0m\u001b[36;1m\u001b[1;3mThe query appears to be correct and free of common mistakes. Here is the original query:\n",
      "\n",
      "```\n",
      "SELECT customer_name, product_name, complaint_details, status \n",
      "FROM customer_complaints \n",
      "WHERE email = 'alice.johnson@example.com' AND status = 'Open' \n",
      "LIMIT 1;\n",
      "```\u001b[0m\u001b[32;1m\u001b[1;3mAction: sql_db_query\n",
      "Action Input: SELECT customer_name, product_name, complaint_details, status FROM customer_complaints WHERE email = 'alice.johnson@example.com' AND status = 'Open' LIMIT 1;\u001b[0m\u001b[36;1m\u001b[1;3m[('Alice Johnson', 'Anti-Aging Cream', 'Caused skin irritation.', 'Open')]\u001b[0m\u001b[32;1m\u001b[1;3mI now know the final answer\n",
      "Final Answer: Alice Johnson, Anti-Aging Cream, Caused skin irritation., Open\u001b[0m\n",
      "\n",
      "\u001b[1m> Finished chain.\u001b[0m\n"
     ]
    }
   ],
   "source": [
    "res = agent_executer.invoke(\n",
    "    \"check if there is an entry containing email as 'alice.johnson@example.com' and status as open.\"\n",
    "    \"If entry exists, then return a summary of the entire record containing customer name,\" \n",
    "    \"the product, complaint details and status\"\n",
    "    \"If there exists no entry then only return Not Found\")"
   ]
  },
  {
   "cell_type": "code",
   "execution_count": 24,
   "metadata": {},
   "outputs": [
    {
     "data": {
      "text/plain": [
       "{'input': \"check if there is an entry containing email as 'alice.johnson@example.com' and status as open.If entry exists, then return a summary of the entire record containing customer name,the product, complaint details and statusIf there exists no entry then only return Not Found\",\n",
       " 'output': 'Alice Johnson, Anti-Aging Cream, Caused skin irritation., Open'}"
      ]
     },
     "execution_count": 24,
     "metadata": {},
     "output_type": "execute_result"
    }
   ],
   "source": [
    "res"
   ]
  },
  {
   "cell_type": "markdown",
   "metadata": {},
   "source": [
    "### COMPLAINTS REGISTRATION --> CHECK IF ORDER EXISTS AND THEN ONLY REGISTER THE COMPLAINT"
   ]
  },
  {
   "cell_type": "markdown",
   "metadata": {},
   "source": [
    "### 1. Entity Extractor from Email"
   ]
  },
  {
   "cell_type": "code",
   "execution_count": null,
   "metadata": {},
   "outputs": [],
   "source": [
    "order_db = SQLDatabase.from_uri(\"sqlite:///skincare_orders.db\")\n"
   ]
  },
  {
   "cell_type": "code",
   "execution_count": 29,
   "metadata": {},
   "outputs": [],
   "source": [
    "entity_extractor_prompt = \"\"\"\n",
    "<|begin_of_text|><|start_header_id|>user<|end_header_id|>You are a helpful AI Agent, proficient in extracting required entities from an email that is related to a online order complaint.\n",
    "Below are the mandatory entities needed in an input email body:\n",
    "- order_id: the Order ID of the online purchase\n",
    "- customer_email: customer's email id \n",
    "- complaint_details: A precise summary of the customer's complaint not more that 50 words\n",
    "\n",
    "\n",
    "{format_instructions}\n",
    "\n",
    "Now, Return the JSON output for the below email:\n",
    "\n",
    "{email}\n",
    "<|eot_id|><|start_header_id|>assistant<|end_header_id|>\n",
    "\"\"\"\n",
    "\n",
    "\n"
   ]
  },
  {
   "cell_type": "code",
   "execution_count": 30,
   "metadata": {},
   "outputs": [],
   "source": [
    "from pydantic import BaseModel, Field\n",
    "\n",
    "class email_entity(BaseModel):\n",
    "    order_id: int = Field(...,description=\"The order ID of the product\")\n",
    "    customer_emai: str = Field(...,description=\"The email ID of the customer\")\n",
    "    product_name: str = Field(...,description=\"Name of the product that the user is complaining for\")\n",
    "    complaint_details: str = Field(...,description=\"A summary of the customer complaint in the not more that 30 words.\")"
   ]
  },
  {
   "cell_type": "code",
   "execution_count": 31,
   "metadata": {},
   "outputs": [],
   "source": [
    "parser = JsonOutputParser(pydantic_object=email_entity)"
   ]
  },
  {
   "cell_type": "code",
   "execution_count": 32,
   "metadata": {},
   "outputs": [],
   "source": [
    "\n",
    "\n",
    "prompt_template = PromptTemplate(template=entity_extractor_prompt, input_variables=[\"email\"], \n",
    "                                 partial_variables={\"format_instructions\":parser.get_format_instructions()},)\n"
   ]
  },
  {
   "cell_type": "code",
   "execution_count": 33,
   "metadata": {},
   "outputs": [],
   "source": [
    "chain = prompt_template | llama | parser"
   ]
  },
  {
   "cell_type": "code",
   "execution_count": 27,
   "metadata": {},
   "outputs": [
    {
     "data": {
      "text/plain": [
       "{'order_id': 3,\n",
       " 'customer_email': 'eve@example.com',\n",
       " 'product_name': 'ABC lotion',\n",
       " 'complaint_details': 'The product cause rashes and skinn irritation in my face and I had to visit the doctor for the same.'}"
      ]
     },
     "execution_count": 27,
     "metadata": {},
     "output_type": "execute_result"
    }
   ],
   "source": [
    "sample_email = \"\"\"\n",
    "I am writing about a complaint regarding a skincare product I purchased from sephora website on 24th November.\n",
    "The product cause rashes and skinn irritation in my face and I had to visit the doctor for the same.\n",
    "I want to return and have a refund for the product. \n",
    "Below are the product details:\n",
    "order_id: 3\n",
    "email: eve@example.com\n",
    "product_name: ABC lotion\n",
    "\"\"\"\n",
    "\n",
    "chain.invoke({\"email\": sample_email})"
   ]
  },
  {
   "cell_type": "code",
   "execution_count": null,
   "metadata": {},
   "outputs": [
    {
     "data": {
      "text/plain": [
       "{'order_id': None,\n",
       " 'customer_email': 'eve@example.com',\n",
       " 'product_name': 'ABC lotion',\n",
       " 'complaint_details': 'Product causes rashes and skin irritation on face, had to visit doctor.'}"
      ]
     },
     "execution_count": 34,
     "metadata": {},
     "output_type": "execute_result"
    }
   ],
   "source": [
    "# Returns None when something is not present\n",
    "sample_email = \"\"\"\n",
    "I am writing about a complaint regarding a skincare product I purchased from sephora website on 24th November.\n",
    "The product cause rashes and skinn irritation in my face and I had to visit the doctor for the same.\n",
    "I want to return and have a refund for the product. \n",
    "Below are the product details:\n",
    "email: eve@example.com\n",
    "product_name: ABC lotion\n",
    "\"\"\"\n",
    "\n",
    "chain.invoke({\"email\": sample_email})"
   ]
  },
  {
   "cell_type": "markdown",
   "metadata": {},
   "source": [
    "### 2. Router"
   ]
  },
  {
   "cell_type": "code",
   "execution_count": 1,
   "metadata": {},
   "outputs": [],
   "source": [
    "from CustomerCaseAgent import build_graph\n",
    "from pydantic_classes import AgentState"
   ]
  },
  {
   "cell_type": "code",
   "execution_count": 2,
   "metadata": {},
   "outputs": [
    {
     "name": "stdout",
     "output_type": "stream",
     "text": [
      "> Email Entity Extraction\n",
      "{'order_id': 1, 'customer_email': 'eve@example.com', 'product_name': 'ABC lotion'} \n",
      "\n",
      "\n",
      "> Email Classification\n",
      "input_email='\\n    I am writing about a complaint regarding a skincare product I purchased from sephora website on 24th November.\\n    The product cause rashes and skinn irritation in my face and I had to visit the doctor for the same.\\n    I want to return and have a refund for the product. \\n    Below are the product details:\\n    order_id: 1\\n    email: eve@example.com\\n    product_name: ABC lotion\\n    ' intent='New Complaint' customer_email='eve@example.com' order_id=1 complaint_summary=None product_name='ABC lotion' action=None feedback=None response=None products=None \n",
      "\n",
      "\n",
      "> New Complaint\n",
      "1\n"
     ]
    },
    {
     "ename": "OperationalError",
     "evalue": "no such column: order_id",
     "output_type": "error",
     "traceback": [
      "\u001b[1;31m---------------------------------------------------------------------------\u001b[0m",
      "\u001b[1;31mOperationalError\u001b[0m                          Traceback (most recent call last)",
      "Cell \u001b[1;32mIn[2], line 14\u001b[0m\n\u001b[0;32m      3\u001b[0m sample_email \u001b[38;5;241m=\u001b[39m \u001b[38;5;124m\"\"\"\u001b[39m\n\u001b[0;32m      4\u001b[0m \u001b[38;5;124m    I am writing about a complaint regarding a skincare product I purchased from sephora website on 24th November.\u001b[39m\n\u001b[0;32m      5\u001b[0m \u001b[38;5;124m    The product cause rashes and skinn irritation in my face and I had to visit the doctor for the same.\u001b[39m\n\u001b[1;32m   (...)\u001b[0m\n\u001b[0;32m     10\u001b[0m \u001b[38;5;124m    product_name: ABC lotion\u001b[39m\n\u001b[0;32m     11\u001b[0m \u001b[38;5;124m    \u001b[39m\u001b[38;5;124m\"\"\"\u001b[39m\n\u001b[0;32m     12\u001b[0m state \u001b[38;5;241m=\u001b[39m AgentState(input_email \u001b[38;5;241m=\u001b[39m sample_email)\n\u001b[1;32m---> 14\u001b[0m response \u001b[38;5;241m=\u001b[39m \u001b[43magent\u001b[49m\u001b[38;5;241;43m.\u001b[39;49m\u001b[43minvoke\u001b[49m\u001b[43m(\u001b[49m\u001b[43mstate\u001b[49m\u001b[43m)\u001b[49m\n",
      "File \u001b[1;32mc:\\AGENTS\\agents_env\\lib\\site-packages\\langgraph\\pregel\\__init__.py:1884\u001b[0m, in \u001b[0;36mPregel.invoke\u001b[1;34m(self, input, config, stream_mode, output_keys, interrupt_before, interrupt_after, debug, **kwargs)\u001b[0m\n\u001b[0;32m   1882\u001b[0m \u001b[38;5;28;01melse\u001b[39;00m:\n\u001b[0;32m   1883\u001b[0m     chunks \u001b[38;5;241m=\u001b[39m []\n\u001b[1;32m-> 1884\u001b[0m \u001b[38;5;28;01mfor\u001b[39;00m chunk \u001b[38;5;129;01min\u001b[39;00m \u001b[38;5;28mself\u001b[39m\u001b[38;5;241m.\u001b[39mstream(\n\u001b[0;32m   1885\u001b[0m     \u001b[38;5;28minput\u001b[39m,\n\u001b[0;32m   1886\u001b[0m     config,\n\u001b[0;32m   1887\u001b[0m     stream_mode\u001b[38;5;241m=\u001b[39mstream_mode,\n\u001b[0;32m   1888\u001b[0m     output_keys\u001b[38;5;241m=\u001b[39moutput_keys,\n\u001b[0;32m   1889\u001b[0m     interrupt_before\u001b[38;5;241m=\u001b[39minterrupt_before,\n\u001b[0;32m   1890\u001b[0m     interrupt_after\u001b[38;5;241m=\u001b[39minterrupt_after,\n\u001b[0;32m   1891\u001b[0m     debug\u001b[38;5;241m=\u001b[39mdebug,\n\u001b[0;32m   1892\u001b[0m     \u001b[38;5;241m*\u001b[39m\u001b[38;5;241m*\u001b[39mkwargs,\n\u001b[0;32m   1893\u001b[0m ):\n\u001b[0;32m   1894\u001b[0m     \u001b[38;5;28;01mif\u001b[39;00m stream_mode \u001b[38;5;241m==\u001b[39m \u001b[38;5;124m\"\u001b[39m\u001b[38;5;124mvalues\u001b[39m\u001b[38;5;124m\"\u001b[39m:\n\u001b[0;32m   1895\u001b[0m         latest \u001b[38;5;241m=\u001b[39m chunk\n",
      "File \u001b[1;32mc:\\AGENTS\\agents_env\\lib\\site-packages\\langgraph\\pregel\\__init__.py:1612\u001b[0m, in \u001b[0;36mPregel.stream\u001b[1;34m(self, input, config, stream_mode, output_keys, interrupt_before, interrupt_after, debug, subgraphs)\u001b[0m\n\u001b[0;32m   1606\u001b[0m     \u001b[38;5;66;03m# Similarly to Bulk Synchronous Parallel / Pregel model\u001b[39;00m\n\u001b[0;32m   1607\u001b[0m     \u001b[38;5;66;03m# computation proceeds in steps, while there are channel updates\u001b[39;00m\n\u001b[0;32m   1608\u001b[0m     \u001b[38;5;66;03m# channel updates from step N are only visible in step N+1\u001b[39;00m\n\u001b[0;32m   1609\u001b[0m     \u001b[38;5;66;03m# channels are guaranteed to be immutable for the duration of the step,\u001b[39;00m\n\u001b[0;32m   1610\u001b[0m     \u001b[38;5;66;03m# with channel updates applied only at the transition between steps\u001b[39;00m\n\u001b[0;32m   1611\u001b[0m     \u001b[38;5;28;01mwhile\u001b[39;00m loop\u001b[38;5;241m.\u001b[39mtick(input_keys\u001b[38;5;241m=\u001b[39m\u001b[38;5;28mself\u001b[39m\u001b[38;5;241m.\u001b[39minput_channels):\n\u001b[1;32m-> 1612\u001b[0m         \u001b[38;5;28;01mfor\u001b[39;00m _ \u001b[38;5;129;01min\u001b[39;00m runner\u001b[38;5;241m.\u001b[39mtick(\n\u001b[0;32m   1613\u001b[0m             loop\u001b[38;5;241m.\u001b[39mtasks\u001b[38;5;241m.\u001b[39mvalues(),\n\u001b[0;32m   1614\u001b[0m             timeout\u001b[38;5;241m=\u001b[39m\u001b[38;5;28mself\u001b[39m\u001b[38;5;241m.\u001b[39mstep_timeout,\n\u001b[0;32m   1615\u001b[0m             retry_policy\u001b[38;5;241m=\u001b[39m\u001b[38;5;28mself\u001b[39m\u001b[38;5;241m.\u001b[39mretry_policy,\n\u001b[0;32m   1616\u001b[0m             get_waiter\u001b[38;5;241m=\u001b[39mget_waiter,\n\u001b[0;32m   1617\u001b[0m         ):\n\u001b[0;32m   1618\u001b[0m             \u001b[38;5;66;03m# emit output\u001b[39;00m\n\u001b[0;32m   1619\u001b[0m             \u001b[38;5;28;01myield from\u001b[39;00m output()\n\u001b[0;32m   1620\u001b[0m \u001b[38;5;66;03m# emit output\u001b[39;00m\n",
      "File \u001b[1;32mc:\\AGENTS\\agents_env\\lib\\site-packages\\langgraph\\pregel\\runner.py:104\u001b[0m, in \u001b[0;36mPregelRunner.tick\u001b[1;34m(self, tasks, reraise, timeout, retry_policy, get_waiter)\u001b[0m\n\u001b[0;32m    102\u001b[0m t \u001b[38;5;241m=\u001b[39m tasks[\u001b[38;5;241m0\u001b[39m]\n\u001b[0;32m    103\u001b[0m \u001b[38;5;28;01mtry\u001b[39;00m:\n\u001b[1;32m--> 104\u001b[0m     \u001b[43mrun_with_retry\u001b[49m\u001b[43m(\u001b[49m\u001b[43mt\u001b[49m\u001b[43m,\u001b[49m\u001b[43m \u001b[49m\u001b[43mretry_policy\u001b[49m\u001b[43m,\u001b[49m\u001b[43m \u001b[49m\u001b[43mwriter\u001b[49m\u001b[38;5;241;43m=\u001b[39;49m\u001b[43mwriter\u001b[49m\u001b[43m)\u001b[49m\n\u001b[0;32m    105\u001b[0m     \u001b[38;5;28mself\u001b[39m\u001b[38;5;241m.\u001b[39mcommit(t, \u001b[38;5;28;01mNone\u001b[39;00m)\n\u001b[0;32m    106\u001b[0m \u001b[38;5;28;01mexcept\u001b[39;00m \u001b[38;5;167;01mException\u001b[39;00m \u001b[38;5;28;01mas\u001b[39;00m exc:\n",
      "File \u001b[1;32mc:\\AGENTS\\agents_env\\lib\\site-packages\\langgraph\\pregel\\retry.py:40\u001b[0m, in \u001b[0;36mrun_with_retry\u001b[1;34m(task, retry_policy, writer)\u001b[0m\n\u001b[0;32m     38\u001b[0m task\u001b[38;5;241m.\u001b[39mwrites\u001b[38;5;241m.\u001b[39mclear()\n\u001b[0;32m     39\u001b[0m \u001b[38;5;66;03m# run the task\u001b[39;00m\n\u001b[1;32m---> 40\u001b[0m \u001b[43mtask\u001b[49m\u001b[38;5;241;43m.\u001b[39;49m\u001b[43mproc\u001b[49m\u001b[38;5;241;43m.\u001b[39;49m\u001b[43minvoke\u001b[49m\u001b[43m(\u001b[49m\u001b[43mtask\u001b[49m\u001b[38;5;241;43m.\u001b[39;49m\u001b[43minput\u001b[49m\u001b[43m,\u001b[49m\u001b[43m \u001b[49m\u001b[43mconfig\u001b[49m\u001b[43m)\u001b[49m\n\u001b[0;32m     41\u001b[0m \u001b[38;5;66;03m# if successful, end\u001b[39;00m\n\u001b[0;32m     42\u001b[0m \u001b[38;5;28;01mbreak\u001b[39;00m\n",
      "File \u001b[1;32mc:\\AGENTS\\agents_env\\lib\\site-packages\\langgraph\\utils\\runnable.py:410\u001b[0m, in \u001b[0;36mRunnableSeq.invoke\u001b[1;34m(self, input, config, **kwargs)\u001b[0m\n\u001b[0;32m    408\u001b[0m context\u001b[38;5;241m.\u001b[39mrun(_set_config_context, config)\n\u001b[0;32m    409\u001b[0m \u001b[38;5;28;01mif\u001b[39;00m i \u001b[38;5;241m==\u001b[39m \u001b[38;5;241m0\u001b[39m:\n\u001b[1;32m--> 410\u001b[0m     \u001b[38;5;28minput\u001b[39m \u001b[38;5;241m=\u001b[39m context\u001b[38;5;241m.\u001b[39mrun(step\u001b[38;5;241m.\u001b[39minvoke, \u001b[38;5;28minput\u001b[39m, config, \u001b[38;5;241m*\u001b[39m\u001b[38;5;241m*\u001b[39mkwargs)\n\u001b[0;32m    411\u001b[0m \u001b[38;5;28;01melse\u001b[39;00m:\n\u001b[0;32m    412\u001b[0m     \u001b[38;5;28minput\u001b[39m \u001b[38;5;241m=\u001b[39m context\u001b[38;5;241m.\u001b[39mrun(step\u001b[38;5;241m.\u001b[39minvoke, \u001b[38;5;28minput\u001b[39m, config)\n",
      "File \u001b[1;32mc:\\AGENTS\\agents_env\\lib\\site-packages\\langgraph\\utils\\runnable.py:184\u001b[0m, in \u001b[0;36mRunnableCallable.invoke\u001b[1;34m(self, input, config, **kwargs)\u001b[0m\n\u001b[0;32m    182\u001b[0m \u001b[38;5;28;01melse\u001b[39;00m:\n\u001b[0;32m    183\u001b[0m     context\u001b[38;5;241m.\u001b[39mrun(_set_config_context, config)\n\u001b[1;32m--> 184\u001b[0m     ret \u001b[38;5;241m=\u001b[39m context\u001b[38;5;241m.\u001b[39mrun(\u001b[38;5;28mself\u001b[39m\u001b[38;5;241m.\u001b[39mfunc, \u001b[38;5;28minput\u001b[39m, \u001b[38;5;241m*\u001b[39m\u001b[38;5;241m*\u001b[39mkwargs)\n\u001b[0;32m    185\u001b[0m \u001b[38;5;28;01mif\u001b[39;00m \u001b[38;5;28misinstance\u001b[39m(ret, Runnable) \u001b[38;5;129;01mand\u001b[39;00m \u001b[38;5;28mself\u001b[39m\u001b[38;5;241m.\u001b[39mrecurse:\n\u001b[0;32m    186\u001b[0m     \u001b[38;5;28;01mreturn\u001b[39;00m ret\u001b[38;5;241m.\u001b[39minvoke(\u001b[38;5;28minput\u001b[39m, config)\n",
      "File \u001b[1;32mc:\\AGENTS\\sephora_email_response_agent\\email_processes.py:183\u001b[0m, in \u001b[0;36mprocess_new_complaint\u001b[1;34m(state)\u001b[0m\n\u001b[0;32m    180\u001b[0m     state\u001b[38;5;241m.\u001b[39mresponse \u001b[38;5;241m=\u001b[39m \u001b[38;5;124m\"\u001b[39m\u001b[38;5;124mOrder not yet delivered. Complaint can only be registered after delivery\u001b[39m\u001b[38;5;124m\"\u001b[39m\n\u001b[0;32m    181\u001b[0m     \u001b[38;5;28;01mreturn\u001b[39;00m state\n\u001b[1;32m--> 183\u001b[0m res \u001b[38;5;241m=\u001b[39m \u001b[43mDatabaseManager\u001b[49m\u001b[38;5;241;43m.\u001b[39;49m\u001b[43mfetch_complaint\u001b[49m\u001b[43m(\u001b[49m\u001b[43morder_id\u001b[49m\u001b[38;5;241;43m=\u001b[39;49m\u001b[43mstate\u001b[49m\u001b[38;5;241;43m.\u001b[39;49m\u001b[43morder_id\u001b[49m\u001b[43m)\u001b[49m\n\u001b[0;32m    185\u001b[0m \u001b[38;5;28;01mif\u001b[39;00m res:\n\u001b[0;32m    186\u001b[0m     state\u001b[38;5;241m.\u001b[39mresponse \u001b[38;5;241m=\u001b[39m \u001b[38;5;124m\"\u001b[39m\u001b[38;5;124mOpen Complaint already exists for this order. New complaint can only be registered after active complaints are closed\u001b[39m\u001b[38;5;124m\"\u001b[39m\n",
      "File \u001b[1;32mc:\\AGENTS\\sephora_email_response_agent\\email_processes.py:82\u001b[0m, in \u001b[0;36mDatabaseManager.fetch_complaint\u001b[1;34m(order_id)\u001b[0m\n\u001b[0;32m     79\u001b[0m conn\u001b[38;5;241m=\u001b[39m get_connection()\n\u001b[0;32m     80\u001b[0m cursor\u001b[38;5;241m=\u001b[39m conn\u001b[38;5;241m.\u001b[39mcursor()\n\u001b[1;32m---> 82\u001b[0m \u001b[43mcursor\u001b[49m\u001b[38;5;241;43m.\u001b[39;49m\u001b[43mexecute\u001b[49m\u001b[43m(\u001b[49m\u001b[38;5;124;43m\"\"\"\u001b[39;49m\n\u001b[0;32m     83\u001b[0m \u001b[38;5;124;43mSELECT * FROM \u001b[39;49m\u001b[38;5;132;43;01m{}\u001b[39;49;00m\u001b[38;5;124;43m WHERE order_id = ? and status = open\u001b[39;49m\n\u001b[0;32m     84\u001b[0m \u001b[38;5;124;43m\u001b[39;49m\u001b[38;5;124;43m\"\"\"\u001b[39;49m\u001b[38;5;241;43m.\u001b[39;49m\u001b[43mformat\u001b[49m\u001b[43m(\u001b[49m\u001b[43mos\u001b[49m\u001b[38;5;241;43m.\u001b[39;49m\u001b[43mgetenv\u001b[49m\u001b[43m(\u001b[49m\u001b[38;5;124;43m\"\u001b[39;49m\u001b[38;5;124;43mCOMPLAINT_TABLE\u001b[39;49m\u001b[38;5;124;43m\"\u001b[39;49m\u001b[43m)\u001b[49m\u001b[43m)\u001b[49m\u001b[43m,\u001b[49m\u001b[43m \u001b[49m\u001b[38;5;28;43mstr\u001b[39;49m\u001b[43m(\u001b[49m\u001b[43morder_id\u001b[49m\u001b[43m)\u001b[49m\u001b[43m)\u001b[49m\n\u001b[0;32m     85\u001b[0m record \u001b[38;5;241m=\u001b[39m fetch_one_as_dict(cursor)\n\u001b[0;32m     86\u001b[0m conn\u001b[38;5;241m.\u001b[39mclose()\n",
      "\u001b[1;31mOperationalError\u001b[0m: no such column: order_id"
     ]
    }
   ],
   "source": [
    "agent = build_graph()\n",
    "\n",
    "sample_email = \"\"\"\n",
    "    I am writing about a complaint regarding a skincare product I purchased from sephora website on 24th November.\n",
    "    The product cause rashes and skinn irritation in my face and I had to visit the doctor for the same.\n",
    "    I want to return and have a refund for the product. \n",
    "    Below are the product details:\n",
    "    order_id: 1\n",
    "    email: eve@example.com\n",
    "    product_name: ABC lotion\n",
    "    \"\"\"\n",
    "state = AgentState(input_email = sample_email)\n",
    "\n",
    "response = agent.invoke(state)"
   ]
  },
  {
   "cell_type": "code",
   "execution_count": 3,
   "metadata": {},
   "outputs": [],
   "source": [
    "# from IPython.display import Image, display\n",
    "# from langchain_core.runnables.graph import CurveStyle, MermaidDrawMethod, NodeStyles\n",
    "\n",
    "# display(\n",
    "#     Image(\n",
    "#         agent.get_graph().draw_mermaid_png(\n",
    "#             draw_method=MermaidDrawMethod.API,\n",
    "#         )\n",
    "#     )\n",
    "# )"
   ]
  },
  {
   "cell_type": "code",
   "execution_count": 3,
   "metadata": {},
   "outputs": [],
   "source": [
    "import sqlite3"
   ]
  },
  {
   "cell_type": "code",
   "execution_count": 4,
   "metadata": {},
   "outputs": [],
   "source": [
    "conn = sqlite3.connect(database=\"online_store.db\")\n",
    "cur = conn.cursor()"
   ]
  },
  {
   "cell_type": "code",
   "execution_count": 7,
   "metadata": {},
   "outputs": [],
   "source": [
    "res = cur.execute(\"SELECT * FROM orders WHERE order_id<6\")"
   ]
  },
  {
   "cell_type": "code",
   "execution_count": 8,
   "metadata": {},
   "outputs": [],
   "source": [
    "def fetch_one_as_dict(cursor):\n",
    "    \"\"\"\n",
    "    Converts cursor.fetchone() result into a dictionary.\n",
    "    \"\"\"\n",
    "    row = cursor.fetchone()\n",
    "    if row is None:\n",
    "        return None\n",
    "    # Extract column names from cursor.description\n",
    "    column_names = [desc[0] for desc in cursor.description]\n",
    "    # Return a dictionary mapping column names to values\n",
    "    return dict(zip(column_names, row))"
   ]
  },
  {
   "cell_type": "code",
   "execution_count": 9,
   "metadata": {},
   "outputs": [
    {
     "data": {
      "text/plain": [
       "{'order_id': 1,\n",
       " 'customer_email': 'alice@example.com',\n",
       " 'order_date': '2024-11-20',\n",
       " 'order_amount': 50.25,\n",
       " 'item_quantity': 2,\n",
       " 'status': 'D'}"
      ]
     },
     "execution_count": 9,
     "metadata": {},
     "output_type": "execute_result"
    }
   ],
   "source": [
    "fetch_one_as_dict(res)"
   ]
  },
  {
   "cell_type": "code",
   "execution_count": null,
   "metadata": {},
   "outputs": [],
   "source": []
  }
 ],
 "metadata": {
  "kernelspec": {
   "display_name": "agents_env",
   "language": "python",
   "name": "python3"
  },
  "language_info": {
   "codemirror_mode": {
    "name": "ipython",
    "version": 3
   },
   "file_extension": ".py",
   "mimetype": "text/x-python",
   "name": "python",
   "nbconvert_exporter": "python",
   "pygments_lexer": "ipython3",
   "version": "3.10.0"
  }
 },
 "nbformat": 4,
 "nbformat_minor": 2
}
