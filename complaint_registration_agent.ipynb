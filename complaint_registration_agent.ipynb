{
 "cells": [
  {
   "cell_type": "code",
   "execution_count": 1,
   "metadata": {},
   "outputs": [
    {
     "name": "stderr",
     "output_type": "stream",
     "text": [
      "c:\\AGENTS\\agents_env\\lib\\site-packages\\tqdm\\auto.py:21: TqdmWarning: IProgress not found. Please update jupyter and ipywidgets. See https://ipywidgets.readthedocs.io/en/stable/user_install.html\n",
      "  from .autonotebook import tqdm as notebook_tqdm\n"
     ]
    }
   ],
   "source": [
    "import chromadb\n",
    "import os\n",
    "import subprocess\n",
    "from dotenv import load_dotenv\n",
    "load_dotenv()\n",
    "\n",
    "os.environ['LANGCHAIN_TRACING_V2'] = \"true\"\n",
    "os.environ['LANGCHAIN_API_KEY'] = os.getenv(\"LANGCHAIN_API_KEY\")\n",
    "os.environ['TAVILY_API_KEY'] = os.getenv(\"TAVILY_API_KEY\")\n",
    "os.environ['GOOGLE_API_KEY'] = os.getenv(\"GEMINI_API_KEY\")\n",
    "os.environ[\"GROQ_API_KEY\"] = os.getenv(\"GROQ_API_KEY\")\n",
    "\n",
    "import pandas as pd\n",
    "from langchain_chroma import Chroma\n",
    "from langchain_core.documents import Document\n",
    "from langchain_ollama import OllamaEmbeddings\n",
    "from langchain_groq import ChatGroq\n",
    "from langchain_google_genai import ChatGoogleGenerativeAI\n",
    "from langchain_core.prompts import ChatPromptTemplate\n",
    "from langchain.prompts import PromptTemplate\n",
    "from langchain_core.output_parsers import StrOutputParser, JsonOutputParser\n",
    "from langchain.chains.query_constructor.base import AttributeInfo\n",
    "from langchain.retrievers.self_query.base import SelfQueryRetriever\n",
    "from langchain.chains.query_constructor.base import StructuredQueryOutputParser, get_query_constructor_prompt\n",
    "from langchain.retrievers.self_query.chroma import ChromaTranslator\n",
    "from langchain_community.utilities import SQLDatabase\n",
    "\n",
    "embed_model = OllamaEmbeddings(model=os.getenv('OLLAMA_EMBED'))\n",
    "llama = ChatGroq(model=os.getenv(\"LLAMA_70B_GROQ\"))\n",
    "gemini = ChatGoogleGenerativeAI(model=os.getenv(\"GEMINI_FLASH\"))"
   ]
  },
  {
   "cell_type": "code",
   "execution_count": 2,
   "metadata": {},
   "outputs": [],
   "source": [
    "db = SQLDatabase.from_uri(\"sqlite:///skincare_complaints.db\")\n"
   ]
  },
  {
   "cell_type": "code",
   "execution_count": 4,
   "metadata": {},
   "outputs": [
    {
     "data": {
      "text/plain": [
       "\"[(1, 'Alice Johnson', 'alice.johnson@example.com', 'Anti-Aging Cream', 'Caused skin irritation.', '2024-11-01', 'Open'), (2, 'Bob Smith', 'bob.smith@example.com', 'Sunscreen SPF 50', 'Leaves a white residue.', '2024-11-02', 'In Progress'), (3, 'Charlie Brown', 'charlie.brown@example.com', 'Moisturizing Lotion', 'Bottle was half empty.', '2024-11-03', 'Resolved'), (4, 'Daisy Parker', 'daisy.parker@example.com', 'Acne Treatment Gel', 'No visible results after 3 weeks.', '2024-11-04', 'Open'), (5, 'Evan Taylor', 'evan.taylor@example.com', 'Facial Cleanser', 'Strong chemical smell.', '2024-11-05', 'In Progress')]\""
      ]
     },
     "execution_count": 4,
     "metadata": {},
     "output_type": "execute_result"
    }
   ],
   "source": [
    "db.run(\"SELECT * FROM customer_complaints LIMIT 5\")"
   ]
  },
  {
   "cell_type": "code",
   "execution_count": 5,
   "metadata": {},
   "outputs": [],
   "source": [
    "from langchain_community.agent_toolkits import create_sql_agent"
   ]
  },
  {
   "cell_type": "code",
   "execution_count": 18,
   "metadata": {},
   "outputs": [],
   "source": [
    "agent_executer = create_sql_agent(llama, db=db, \n",
    "                                  agent_type='zero-shot-react-description', \n",
    "                                  verbose=True\n",
    "                                  )"
   ]
  },
  {
   "cell_type": "code",
   "execution_count": null,
   "metadata": {},
   "outputs": [],
   "source": []
  },
  {
   "cell_type": "code",
   "execution_count": 23,
   "metadata": {},
   "outputs": [
    {
     "name": "stdout",
     "output_type": "stream",
     "text": [
      "\n",
      "\n",
      "\u001b[1m> Entering new SQL Agent Executor chain...\u001b[0m\n",
      "\u001b[32;1m\u001b[1;3mThought: I should look at the tables in the database to see what I can query.  Then I should query the schema of the most relevant tables.\n",
      "Action: sql_db_list_tables\n",
      "Action Input: \u001b[0m\u001b[38;5;200m\u001b[1;3mcustomer_complaints\u001b[0m\u001b[32;1m\u001b[1;3mNow that I have the list of tables, I can query the schema of the `customer_complaints` table to see what columns it has.\n",
      "\n",
      "Action: sql_db_schema\n",
      "Action Input: customer_complaints\u001b[0m\u001b[33;1m\u001b[1;3m\n",
      "CREATE TABLE customer_complaints (\n",
      "\tcomplaint_id INTEGER, \n",
      "\tcustomer_name TEXT NOT NULL, \n",
      "\temail TEXT NOT NULL, \n",
      "\tproduct_name TEXT NOT NULL, \n",
      "\tcomplaint_details TEXT NOT NULL, \n",
      "\tcomplaint_date TEXT NOT NULL, \n",
      "\tstatus TEXT DEFAULT 'Open', \n",
      "\tPRIMARY KEY (complaint_id)\n",
      ")\n",
      "\n",
      "/*\n",
      "3 rows from customer_complaints table:\n",
      "complaint_id\tcustomer_name\temail\tproduct_name\tcomplaint_details\tcomplaint_date\tstatus\n",
      "1\tAlice Johnson\talice.johnson@example.com\tAnti-Aging Cream\tCaused skin irritation.\t2024-11-01\tOpen\n",
      "2\tBob Smith\tbob.smith@example.com\tSunscreen SPF 50\tLeaves a white residue.\t2024-11-02\tIn Progress\n",
      "3\tCharlie Brown\tcharlie.brown@example.com\tMoisturizing Lotion\tBottle was half empty.\t2024-11-03\tResolved\n",
      "*/\u001b[0m\u001b[32;1m\u001b[1;3mThought: Now that I have the schema, I can construct a query to check if there is an entry with the specified email and status. I'll limit the query to 1 result, and only select the relevant columns.\n",
      "\n",
      "Action: sql_db_query_checker\n",
      "Action Input: SELECT customer_name, product_name, complaint_details, status FROM customer_complaints WHERE email = 'alice.johnson@example.com' AND status = 'Open' LIMIT 1;\u001b[0m\u001b[36;1m\u001b[1;3mThe query appears to be correct and free of common mistakes. Here is the original query:\n",
      "\n",
      "```\n",
      "SELECT customer_name, product_name, complaint_details, status \n",
      "FROM customer_complaints \n",
      "WHERE email = 'alice.johnson@example.com' AND status = 'Open' \n",
      "LIMIT 1;\n",
      "```\u001b[0m\u001b[32;1m\u001b[1;3mAction: sql_db_query\n",
      "Action Input: SELECT customer_name, product_name, complaint_details, status FROM customer_complaints WHERE email = 'alice.johnson@example.com' AND status = 'Open' LIMIT 1;\u001b[0m\u001b[36;1m\u001b[1;3m[('Alice Johnson', 'Anti-Aging Cream', 'Caused skin irritation.', 'Open')]\u001b[0m\u001b[32;1m\u001b[1;3mI now know the final answer\n",
      "Final Answer: Alice Johnson, Anti-Aging Cream, Caused skin irritation., Open\u001b[0m\n",
      "\n",
      "\u001b[1m> Finished chain.\u001b[0m\n"
     ]
    }
   ],
   "source": [
    "res = agent_executer.invoke(\n",
    "    \"check if there is an entry containing email as 'alice.johnson@example.com' and status as open.\"\n",
    "    \"If entry exists, then return a summary of the entire record containing customer name,\" \n",
    "    \"the product, complaint details and status\"\n",
    "    \"If there exists no entry then only return Not Found\")"
   ]
  },
  {
   "cell_type": "code",
   "execution_count": 24,
   "metadata": {},
   "outputs": [
    {
     "data": {
      "text/plain": [
       "{'input': \"check if there is an entry containing email as 'alice.johnson@example.com' and status as open.If entry exists, then return a summary of the entire record containing customer name,the product, complaint details and statusIf there exists no entry then only return Not Found\",\n",
       " 'output': 'Alice Johnson, Anti-Aging Cream, Caused skin irritation., Open'}"
      ]
     },
     "execution_count": 24,
     "metadata": {},
     "output_type": "execute_result"
    }
   ],
   "source": [
    "res"
   ]
  },
  {
   "cell_type": "code",
   "execution_count": null,
   "metadata": {},
   "outputs": [],
   "source": []
  }
 ],
 "metadata": {
  "kernelspec": {
   "display_name": "agents_env",
   "language": "python",
   "name": "python3"
  },
  "language_info": {
   "codemirror_mode": {
    "name": "ipython",
    "version": 3
   },
   "file_extension": ".py",
   "mimetype": "text/x-python",
   "name": "python",
   "nbconvert_exporter": "python",
   "pygments_lexer": "ipython3",
   "version": "3.10.0"
  }
 },
 "nbformat": 4,
 "nbformat_minor": 2
}
