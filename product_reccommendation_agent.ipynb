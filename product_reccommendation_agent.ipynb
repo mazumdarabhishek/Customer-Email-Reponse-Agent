{
 "cells": [
  {
   "cell_type": "code",
   "execution_count": 1,
   "metadata": {},
   "outputs": [
    {
     "name": "stderr",
     "output_type": "stream",
     "text": [
      "c:\\AGENTS\\agents_env\\lib\\site-packages\\tqdm\\auto.py:21: TqdmWarning: IProgress not found. Please update jupyter and ipywidgets. See https://ipywidgets.readthedocs.io/en/stable/user_install.html\n",
      "  from .autonotebook import tqdm as notebook_tqdm\n"
     ]
    }
   ],
   "source": [
    "import chromadb\n",
    "import os\n",
    "import subprocess\n",
    "from dotenv import load_dotenv\n",
    "load_dotenv()\n",
    "\n",
    "os.environ['LANGCHAIN_TRACING_V2'] = \"true\"\n",
    "os.environ['LANGCHAIN_API_KEY'] = os.getenv(\"LANGCHAIN_API_KEY\")\n",
    "os.environ['TAVILY_API_KEY'] = os.getenv(\"TAVILY_API_KEY\")\n",
    "os.environ['GOOGLE_API_KEY'] = os.getenv(\"GEMINI_API_KEY\")\n",
    "os.environ[\"GROQ_API_KEY\"] = os.getenv(\"GROQ_API_KEY\")\n",
    "\n",
    "import pandas as pd\n",
    "from langchain_chroma import Chroma\n",
    "from langchain_core.documents import Document\n",
    "from langchain_ollama import OllamaEmbeddings\n",
    "from langchain_groq import ChatGroq\n",
    "from langchain_google_genai import ChatGoogleGenerativeAI\n",
    "from langchain_core.prompts import ChatPromptTemplate\n",
    "from langchain.prompts import PromptTemplate\n",
    "from langchain_core.output_parsers import StrOutputParser, JsonOutputParser\n",
    "from langchain.chains.query_constructor.base import AttributeInfo\n",
    "from langchain.retrievers.self_query.base import SelfQueryRetriever\n",
    "from langchain.chains.query_constructor.base import StructuredQueryOutputParser, get_query_constructor_prompt\n",
    "from langchain.retrievers.self_query.chroma import ChromaTranslator\n",
    "\n",
    "embed_model = OllamaEmbeddings(model=os.getenv('OLLAMA_EMBED'))\n",
    "llama = ChatGroq(model=os.getenv(\"LLAMA_70B_GROQ\"))\n",
    "gemini = ChatGoogleGenerativeAI(model=os.getenv(\"GEMINI_FLASH\"))"
   ]
  },
  {
   "cell_type": "code",
   "execution_count": 5,
   "metadata": {},
   "outputs": [],
   "source": [
    "sephora_data = pd.read_csv(r\"C:\\Users\\abhis\\Downloads\\archive\\sephora_website_dataset.csv\")\n",
    "sephora_data.fillna(\"\", inplace=True)\n",
    "\n",
    "sephora_data[\"combined_context\"] = (\n",
    "    \"Brand : \" + sephora_data[\"brand\"] + \"\\n\" +\n",
    "    \"Category\" + sephora_data[\"category\"] + \"\\n\" + \n",
    "    \"name\" + sephora_data[\"name\"] + \"\\n\" +\n",
    "    \"details\" + sephora_data[\"details\"] + \"\\n\" +\n",
    "    \"Ingridients\" + sephora_data[\"ingredients\"] + \"\\n\" \n",
    ")\n",
    "\n",
    "docs = list()\n",
    "\n",
    "for i, row  in sephora_data.iterrows():\n",
    "\n",
    "    metadata = {\n",
    "        \"brand\": row['brand'],\n",
    "        \"category\": row['category'],\n",
    "        \"price\": row['price'],\n",
    "        \"rating\": row['rating'],\n",
    "        \"number_of_reviews\": row['number_of_reviews']\n",
    "    }\n",
    "\n",
    "    doc = Document(\n",
    "        page_content= row['combined_context'],\n",
    "        metadata= metadata\n",
    "    )\n",
    "\n",
    "    docs.append(doc)\n",
    "\n",
    "docs = docs[:166]"
   ]
  },
  {
   "cell_type": "code",
   "execution_count": 3,
   "metadata": {},
   "outputs": [],
   "source": [
    "embed_model = OllamaEmbeddings(model=os.getenv('OLLAMA_EMBED'))\n",
    "llama = ChatGroq(model=os.getenv(\"LLAMA_70B_GROQ\"))\n",
    "gemini = ChatGoogleGenerativeAI(model=os.getenv(\"GEMINI_FLASH\"))"
   ]
  },
  {
   "cell_type": "code",
   "execution_count": 6,
   "metadata": {},
   "outputs": [],
   "source": [
    "vector_store = Chroma.from_documents(documents=docs, collection_name='sephora_store', persist_directory='chroma/sephora_store_db', embedding=embed_model,)"
   ]
  },
  {
   "cell_type": "code",
   "execution_count": 7,
   "metadata": {},
   "outputs": [],
   "source": [
    "metadata_field_info = [\n",
    "    AttributeInfo(\n",
    "        name='brand',\n",
    "        description=\"The brand of the product. Examples include 'sephora collection', 'Fenty Beauty' etc\",\n",
    "        type=\"string\"\n",
    "    ),\n",
    "    AttributeInfo(\n",
    "        name='category',\n",
    "        description=\"T  he category of the product such as 'skincare', 'makeup', 'hair' etc\",\n",
    "        type=\"string\"\n",
    "    ),\n",
    "    AttributeInfo(\n",
    "        name='price',\n",
    "        description=\"The price of the product in USD\",\n",
    "        type=\"float\"\n",
    "    ),\n",
    "    AttributeInfo(\n",
    "        name='rating',\n",
    "        description=\"The average user rating for a product from a sacle of 1 to 5\",\n",
    "        type=\"float\"\n",
    "    ),\n",
    "    AttributeInfo(\n",
    "        name='number_of_reviews',\n",
    "        description=\"The total number of reviews given to a product\",\n",
    "        type=\"integer\"\n",
    "    ),\n",
    "]\n",
    "\n",
    "document_content_description = \"COmbined  textual description of the product. Including ingredients and product details\""
   ]
  },
  {
   "cell_type": "code",
   "execution_count": 8,
   "metadata": {},
   "outputs": [
    {
     "name": "stdout",
     "output_type": "stream",
     "text": [
      "<< Example 3. >>\n",
      "Data Source:\n",
      "```json\n",
      "{{\n",
      "    \"content\": \"COmbined  textual description of the product. Including ingredients and product details\",\n",
      "    \"attributes\": {{\n",
      "    \"brand\": {{\n",
      "        \"description\": \"The brand of the product. Examples include 'sephora collection', 'Fenty Beauty' etc\",\n",
      "        \"type\": \"string\"\n",
      "    }},\n",
      "    \"category\": {{\n",
      "        \"description\": \"T  he category of the product such as 'skincare', 'makeup', 'hair' etc\",\n",
      "        \"type\": \"string\"\n",
      "    }},\n",
      "    \"price\": {{\n",
      "        \"description\": \"The price of the product in USD\",\n",
      "        \"type\": \"float\"\n",
      "    }},\n",
      "    \"rating\": {{\n",
      "        \"description\": \"The average user rating for a product from a sacle of 1 to 5\",\n",
      "        \"type\": \"float\"\n",
      "    }},\n",
      "    \"number_of_reviews\": {{\n",
      "        \"description\": \"The total number of reviews given to a product\",\n",
      "        \"type\": \"integer\"\n",
      "    }}\n",
      "}}\n",
      "}}\n",
      "```\n",
      "\n",
      "User Query:\n",
      "{query}\n",
      "\n",
      "Structured Request:\n",
      "\n"
     ]
    }
   ],
   "source": [
    "prompt = get_query_constructor_prompt(document_content_description, metadata_field_info)\n",
    "output_parser = StructuredQueryOutputParser.from_components()\n",
    "query_constructor = prompt | llama | output_parser\n",
    "\n",
    "# Checking that our input is rendered as final entry into FewShotPrompt Template\n",
    "print(prompt.suffix)"
   ]
  },
  {
   "cell_type": "code",
   "execution_count": 9,
   "metadata": {},
   "outputs": [],
   "source": [
    "retriever = SelfQueryRetriever(\n",
    "    query_constructor=query_constructor,\n",
    "    vectorstore=vector_store,\n",
    "    structured_query_translator=ChromaTranslator()\n",
    ")"
   ]
  },
  {
   "cell_type": "code",
   "execution_count": 14,
   "metadata": {},
   "outputs": [
    {
     "data": {
      "text/plain": [
       "'```json\\n{\\n    \"query\": \"\",\\n    \"filter\": \"gt(\\\\\"rating\\\\\", 4.5)\"\\n}\\n```'"
      ]
     },
     "execution_count": 14,
     "metadata": {},
     "output_type": "execute_result"
    }
   ],
   "source": [
    "prompt_obj = prompt.invoke({\"query\": \"show me products with rating higher that 4.5\"})\n",
    "\n",
    "llama.invoke(prompt_obj).content"
   ]
  },
  {
   "cell_type": "code",
   "execution_count": 11,
   "metadata": {},
   "outputs": [
    {
     "data": {
      "text/plain": [
       "StructuredQuery(query=' ', filter=Comparison(comparator=<Comparator.GT: 'gt'>, attribute='rating', value=4.5), limit=None)"
      ]
     },
     "execution_count": 11,
     "metadata": {},
     "output_type": "execute_result"
    }
   ],
   "source": [
    "query_constructor.invoke(\"show me products with rating higher that 4.5\")"
   ]
  },
  {
   "cell_type": "code",
   "execution_count": 12,
   "metadata": {},
   "outputs": [
    {
     "data": {
      "text/plain": [
       "[Document(metadata={'brand': 'Algenist', 'category': 'Value & Gift Sets', 'number_of_reviews': 2, 'price': 95.0, 'rating': 5.0}, page_content=\"Brand : Algenist\\nCategoryValue & Gift Sets\\nnameAlgenist Weekender Kit\\ndetailsWhat it is:  A set that includes all travel-size must-haves for an effective anti-aging skincare regimen on the go.Skin Type: Normal- Dry- Combination- and Oily Skincare Concerns: Fine Lines and Wrinkles- Dryness- Dullness and Uneven Texture Highlighted Ingredients:- Alguronic Acid: Helps to support the skin for a more youthful appearance.- Plant-Derived Collagen: Gives skin a firmer- more lifted appearance. - Algae Prebiotic: Helps the balance of skin’s natural surface ecosystem.Ingredient Callouts: Free of parabens- formaldehydes- formaldehyde-releasing agents- phthalates- oxybenzone- coal tar- hydroquinone- triclosan- and triclocarban. These products are also vegan and come in recyclable packaging. What Else You Need to Know:  This kit is formulated with alguronic acid- Algenist’s patented benefit-boosting ingredient from algae- to support skin's barrier and reveal a more balanced and healthy-looking complexion. After use- skin appears nurtured and radiant- with a reduction in the look of fine lines and wrinkles.This Set Contains:- 1.5 oz/ 45 mL Gentle Rejuvenating Cleanser- 0.27 oz/ 8 mL AA Barrier Serum- 0.23 oz/ 7 mL Complete Eye Renewal Balm- 1 oz/ 30 mL GENIUS Ultimate Anti-Aging Cream- 0.27 oz/ 8 mL ALIVE Prebiotic Balancing Mask Clinical Results:  In a consumer use study of 100 women using the Genius Ultimate Anti-Aging Cream twice daily: - 95% said dull skin is brighter in 10 days- 91% said fragile skin texture appears reinforced within 10 days- 95% said skin appears firmer- more resilient- and suppleness appears restored in 28 daysIn a consumer use study of 100 women using the Complete Eye Renewal Balm twice daily- within 4 weeks:- 81% said dark circles look decreased - 87% said puffiness appears decreased - 91% said eye contours appear smoother In a consumer use study of 86 women using the Alive Prebiotic Balancing Mask after 10 days:- 92% said skin felt balanced - 92% said skin was visibly revitalized - 91% said skin felt healthier \\nIngridients-Alguronic Acid: Helps to support the skin for a more youthful appearance.-Plant-Derived Collagen: Gives skin a firmer- more lifted appearance. -Algae Prebiotic: Helps the balance of skin’s natural surface ecosystem.Gentle Rejuvenating Cleanser: Water (Aqua- Eau)- Sodium Cocoyl Isethionate- Glyceryl Stearate SE- Cocamidopropyl Betaine- Coconut Acid- Cetyl Alcohol- Palmitic Acid- Stearic Acid- Sodium Isethionate- Dimethicone PEG-8 Meadowfoamate- Parachlorella Beijerinckii Exopolysaccharides- Glycerin- Hamamelis Virginiana (Witch Hazel) Water- Tocopheryl Acetate- Arctostaphylos Uva-Ursi Leaf Extract- Glycyrrhiza Glabra (Licorice) Root Extract- Saccharum Officinarum (Sugarcane) Extract- Sodium Lauroyl Oat Amino Acids- Camellia Sinensis Leaf Extract- Pyrus Malus (Apple) Fruit Extract- Citrus Aurantium Dulcis (Orange) Fruit Extract- Citrus Limon (Lemon) Fruit Extract- Lauryl Lactyl Lactate- Caprylyl Glycol- Tetrasodium EDTA- Ethylhexylglycerin- Hexylene Glycol- Butylene Glycol- Jojoba Alcohol- Potassium Jojobate- Xanthan Gum- Sodium Chloride- Phenoxyethanol- Benzoic Acid.AA Barrier Serum: Water (Aqua- Eau)- Butylene Glycol- PEG-8 Dimethicone- Propanediol- Caprylyl Methicone- Dimethicone- Parachlorella Beijerinckii Exopolysaccharides- Phloretin- Ergothioneine- Copper Palmitoyl Heptapeptide-14- Heptapeptide-15 Palmitate- Epigallocatechin Gallate- Tocopheryl Acetate- Aspartic Acid- PCA- Disodium EDTA- Alanine- Serine- Valine- Isoleucine- Proline- Threonine- Lactic Acid/Glycolic Acid Copolymer- Polyvinyl Alcohol- Histidine- Phenylalanine- Arginine- Ascorbic Acid- Octyldodecanol- Pyridoxine HCl- Retinyl Palmitate- Silica- Sodium Propoxyhydroxypropyl Thiosulfate Silica- Glycerin- Hydroxyethyl Acrylate/Sodium Acryloyldimethyl Taurate Copolymer- Ammonium Acryloyldimethyltaurate/VP Copolymer- Pentylene Glycol- Isohexadecane- Adenosine Triphosphate- Hydrolyzed Oat Protein- Niacinamide- Citric Acid- Polysorbate 60- Sorbitan Isostearate- Sodium PCA- Sodium Phytate- Sodium Lactate- Sodium Benzoate- Potassium Sorbate- Phenoxyethanol.Complete Eye Renewal Balm: Water (Aqua- Eau)-  Isopropyl Isostearate- Glycerin- Dimethicone- Palmitic Acid- Pentylene Glycol- Glyceryl Stearate SE- Stearic Acid- Dimethicone Crosspolymer- Butyrospermum Parkii (Shea) Butter- Cetearyl Alcohol- Undaria Pinnatifida Extract- Limnanthes Alba (Meadowfoam) Seed Oil- Parachlorella Beijerinckii Exopolysaccharides- Alaria Esculenta Extract- Bambusa Vulgaris Leaf/Stem Extract- Aloe Barbadensis Leaf Juice- Aloe Barbadensis Leaf Juice Powder- Camellia Sinensis Leaf Extract- Cucumis Sativus (Cucumber) Fruit Extract- Tocopheryl Acetate- Caffeine- Tetrapeptide-21- Dipeptide-2- Palmitoyl Tetrapeptide-7- Palmitoyl Tripeptide-1- Magnesium Ascorbyl Phosphate- Malus Domestica Fruit Cell Culture Extract- Rubus Idaeus (Raspberry) Leaf Extract- Glucosamine HCl- Pisum Sativum (Pea) Extract- Inula Crithmoide Extract- Phospholipids- Biotin- N-Hydroxysuccinimide- Chrysin- Hesperidin Methyl Chalcone- Lecithin- Caprylic/Capric Triglyceride- Leuconostoc/Radish Root Ferment Filtrate- Vinyl Dimethicone/Methicone Silsesquioxane Crosspolymer- Acrylates/C10-30 Alkyl Acrylate Crosspolymer- Steareth-20- Ceteareth-20- Butylene Glycol- Xanthan Gum- Sodium Citrate- Citric Acid- Disodium EDTA- Aminomethyl Propanol- Potassium Sorbate- Chlorhexidine Digluconate- Caprylyl Glycol- Hexylene Glycol- Ethylhexylglycerin- Sodium Benzoate- Phenoxyethanol. GENIUS Ultimate Anti-Aging Cream: Water (Aqua- Eau)- Caprylic/Capric Triglyceride- Hydrogenated Polyisobutene- Glycerin- Chlorella Protothecoides Oil- Dimethicone- Butylene Glycol- Glyceryl Stearate- PEG-100 Stearate- Butyrospermum Parkii (Shea) Butter- Pentylene Glycol- Potassium Cetyl Phosphate- Parachlorella Beijerinckii Exopolysaccharides- Collagen-  Ceramide NP- Cynara Scolymus (Artichoke) Leaf Extract- Retinyl Palmitate- Astragalus Membranaceus Root Extract- Atractylodes Macrocephala Root Extract-  Iris Florentina Root Extract- Bupleurum Falcatum Root Extract- Copper Lysinate/Prolinate- Methylglucoside Phosphate- Stearalkonium Bentonite- Acrylates/C10-30 Alkyl Acrylate Crosspolymer- Silica- Caprylyl Glycol- Sodium Hydroxide- Disodium EDTA- Ethylhexylglycerin- Cetyl Alcohol- Propylene Carbonate- Quartz- Phenoxyethanol-  Leuconostoc/Radish Root Ferment Filtrate- Chlorphenesin- Fragrance (Parfum)- Coumarin. ALIVE Prebiotic Balancing Mask: Glycerin- Water (Aqua- Eau)- Sodium Cocoyl Glycinate- Propanediol- Kaolin- Lactococcus Ferment Lysate- Bentonite- Magnesium Aluminum Silicate- Maltooligosyl Glucoside- Myristic Acid- Lactic Acid- Glyceryl Stearate- Parachlorella Beijerinckii Exopolysaccharides- Chlorella Vulgaris Extract- Alteromonas Ferment Extract- Corallina Officinalis Extract- Curcuma Longa (Turmeric) Root Extract- Melia Azadirachta Leaf Extract- Melia Azadirachta Flower Extract- Ocimum Basilicum (Basil) Flower/Leaf Extract- Ocimum Sanctum Leaf Extract- Tocopherol- Hydrogenated Starch Hydrolysate- Sodium Lauroyl Methyl Isethionate- Cocamidopropyl Betaine- Sodium Methyl Oleoyl Taurate- Butylene Glycol- Coco-Glucoside- Lauryl Glucoside- Styrene/Acrylates Copolymer- Phytosteryl/Octyldodecyl Lauroyl Glutamate- Ethylhexylglycerin- Lauric Acid- Palmitic Acid- Cellulose Gum- Sucrose- Sodium Chloride- Mica- Sodium Benzoate- Phenoxyethanol- Titanium Dioxide (CI 77891)- Iron Oxides (CI 77491)- Manganese Violet (CI 77742)- Chromium Hydroxide Green (CI 77289).\\n\"),\n",
       " Document(metadata={'brand': 'Acqua Di Parma', 'category': 'Perfume', 'number_of_reviews': 2, 'price': 275.0, 'rating': 5.0}, page_content=\"Brand : Acqua Di Parma\\nCategoryPerfume\\nnameOsmanthus Eau de Parfum\\ndetailsFragrance Family: Floral\\n\\nScent Type: Fruity Florals\\n\\nKey Notes: Green Mandarin- Peony- Osmanthus\\n\\nFragrance Description: Osmanthus is a sun-filled interpretation of the flower's deep and sensual notes. The richness of the osmanthus flower is combined with green mandarin and neroli oil to take you to the rock forests of South East Asia- where the elusive flower blooms with a rich and powerful fragrance.\\n\\n\\nIngridientsAlcohol Denat.- Aqua (Water)- Parfum (Fragrance)- Limonene- Hydroxycitronellal- Ethylhexyl Methoxycinnamate- Hexyl Cinnamal- Linalool- Citronellol- Butyl Methoxydibenzoylmethane- Ethylhexyl Salicylate- Bht- Farnesol- Geraniol- Benzyl Alcohol- Citral- Tocopherol.Acqua di Parma product ingredient listings are updated periodically. Before using an Acqua di Parma product- please read the ingredient list on the packaging of your product to be sure that the ingredients are appropriate for your personal use.\\n\"),\n",
       " Document(metadata={'brand': 'Acqua Di Parma', 'category': 'Perfume Gift Sets', 'number_of_reviews': 1, 'price': 200.0, 'rating': 5.0}, page_content='Brand : Acqua Di Parma\\nCategoryPerfume Gift Sets\\nnamePeonia Nobile Gift Set\\ndetailsFragrance Family: FloralScent Type: Classic FloralsKey Notes: PeonyFragrance Description: A refined interpretation of the peony flower unveils its sublime elegance in this fragrance. Vibrant accents of black pepper blended with soft notes of raspberry characterize the opening of the bouquet. The intense floral heart reveals sumptuous notes of peony combined with the brightness of geranium. An enveloping harmony evolves into the base- where the velvety and captivating tones of amber embrace the melting notes of patchouli.About the Bottle: This festive Peonia Nobile fragrance layering collection is presented in a limited-edition gift box beautifully illustrated by the Italian artist Gio Pastori. This set contains:- 3.4 oz/ 100 mL Eau de Parfum- 2.6 oz/ 75 g Body Cream- 2.5 oz/ 75 mL Shower GelAbout the Fragrance: All Acqua Di Parma products are handcrafted in Italy where the artisanal tradition is handed down from generation to generation.\\nIngridientsAlcohol Denat.- Fragrance- Water- Citronellol- Hexylcinnamal- Linalool- Hydroxycitronellal- Alpha-Isomethylionone- Ethylhexylmethoxycinnamate- Geraniol- Alcohol- Butylmethoxydibenzoylmethane- Ethylhexylsalicylate- Bht- Limonene- Citral- Methyl2-Octynoate- Tocopherol- Ci14700 (Red4)- Ci60730 (Ext.Violet2)- Ci19140 (Yellow5).Acqua di Parma product ingredient listings are updated periodically. Before using an Acqua di Parma product- please read the ingredient list on the packaging of your product to be sure that the ingredients are appropriate for your personal use.\\n'),\n",
       " Document(metadata={'brand': 'Acqua Di Parma', 'category': 'Perfume', 'number_of_reviews': 1, 'price': 70.0, 'rating': 5.0}, page_content='Brand : Acqua Di Parma\\nCategoryPerfume\\nnameBlu Mediterraneo Cipresso di Toscana Travel Spray\\ndetailsFragrance Family: Earthy & WoodyScent Type: Citrus & WoodsKey Notes: Orange- Lavandin- CypressFragrance Description: The fragrance opens with top notes of star anise and elemi- evoking a lively breeze- combined with notes of orange and petit grain. At the heart of the composition- sage and lavender bring an aromatic note while notes of cypress and pine evoke the sensation of tranquil wellbeing.About the Bottle: This fragrance comes in an art-deco-style glass bottle.\\nIngridientsAlcohol Denat.- Acqua (Water)- Parfum (Fragrance)- Benzyl Salicylate-Linalool- Limonene- Citronellol- Coumarin- Eugenol- BHT- Geraniol- Citral- Tocopherol.Acqua di Parma product ingredient listings are updated periodically. Before using an Acqua di Parma product- please read the ingredient list on the packaging of your product to be sure that the ingredients are appropriate for your personal use.\\n')]"
      ]
     },
     "execution_count": 12,
     "metadata": {},
     "output_type": "execute_result"
    }
   ],
   "source": [
    "# Testing the Retriever\n",
    "retriever.invoke(\"show me products with rating higher that 4.5\")"
   ]
  },
  {
   "cell_type": "code",
   "execution_count": null,
   "metadata": {},
   "outputs": [],
   "source": []
  }
 ],
 "metadata": {
  "kernelspec": {
   "display_name": "agents_env",
   "language": "python",
   "name": "python3"
  },
  "language_info": {
   "codemirror_mode": {
    "name": "ipython",
    "version": 3
   },
   "file_extension": ".py",
   "mimetype": "text/x-python",
   "name": "python",
   "nbconvert_exporter": "python",
   "pygments_lexer": "ipython3",
   "version": "3.10.0"
  }
 },
 "nbformat": 4,
 "nbformat_minor": 2
}
